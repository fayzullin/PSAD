{
 "cells": [
  {
   "attachments": {},
   "cell_type": "markdown",
   "metadata": {},
   "source": [
    "## Problem number: 1.1\n",
    "## Statement\n",
    "Проверить мощность и консервативность критериев Лиллиефорса(Колмогорова), Харке-Бера, Шапиро-Улика для выборок из следующих распределений:\n",
    "* Нормальное\n",
    "* Лапласа\n",
    "* Стьюдента\n",
    "* Усеченное нормальное распределение (модуль каждого элемента выборки не превосходит 2)"
   ]
  },
  {
   "attachments": {},
   "cell_type": "markdown",
   "metadata": {},
   "source": [
    "# Solution"
   ]
  },
  {
   "attachments": {},
   "cell_type": "markdown",
   "metadata": {},
   "source": [
    "## Imports"
   ]
  },
  {
   "cell_type": "code",
   "execution_count": 29,
   "metadata": {},
   "outputs": [],
   "source": [
    "import numpy as np\n",
    "import matplotlib.pylab as plt\n",
    "from matplotlib import gridspec\n",
    "import pandas as pd\n",
    "import scipy.stats as st\n",
    "import seaborn as sns"
   ]
  },
  {
   "cell_type": "code",
   "execution_count": 59,
   "metadata": {},
   "outputs": [
    {
     "name": "stdout",
     "output_type": "stream",
     "text": [
      "Sampling from normal distribution\n",
      "ks_test : True\n",
      "jarque_bera_test : False\n",
      "shapiro : False\n",
      "\n",
      "\n",
      "Sampling from laplace distribution\n",
      "ks_test : False\n",
      "jarque_bera_test : False\n",
      "shapiro : False\n",
      "\n",
      "\n",
      "Sampling from student distribution\n",
      "ks_test : False\n",
      "jarque_bera_test : False\n",
      "shapiro : False\n",
      "\n",
      "\n",
      "Sampling from truncated normal distribution\n",
      "ks_test : True\n",
      "jarque_bera_test : False\n",
      "shapiro : False\n",
      "\n",
      "\n"
     ]
    }
   ],
   "source": [
    "experiment_num = 10000\n",
    "\n",
    "\n",
    "# Samplings\n",
    "\n",
    "def normal_sampling(loc: float = 0, scale: float = 1, size: int = 1000):\n",
    "    return st.norm.rvs(loc, scale, size=size)\n",
    "\n",
    "def laplace_sampling(loc: float = 0, scale: float = 1, size: int = 1000):\n",
    "    return st.laplace.rvs(loc, scale, size=size)\n",
    "\n",
    "def student_sampling(df: int = 3, size: int = 1000):\n",
    "    return st.t.rvs(df, size=size)\n",
    "\n",
    "def truncated_normal_sampling(loc: float = 0, scale: float = 1, size: int = 1000, lower: float = -2, upper: float = 2):\n",
    "    # lower and upper bound are converted from sample space to standard deviation space\n",
    "    std_lower = (lower - loc) / scale\n",
    "    std_upper = (upper - loc) / scale\n",
    "    return st.truncnorm.rvs(std_lower, std_upper, loc=loc, scale=scale, size=size)\n",
    "\n",
    "samplings = {\n",
    "    'normal': normal_sampling(), \n",
    "    'laplace': laplace_sampling(), \n",
    "    'student': student_sampling(),\n",
    "    'truncated normal': truncated_normal_sampling()\n",
    "}\n",
    "\n",
    "# Tests\n",
    "def ks_test(sampling: np.ndarray, alpha: float = 0.05):\n",
    "    return st.ks_1samp(sampling, st.norm.cdf).pvalue > alpha\n",
    "\n",
    "def jarque_bera_test(sampling: np.ndarray, alpha: float = 0.05):\n",
    "    return st.jarque_bera(sampling).pvalue > alpha\n",
    "\n",
    "def shapiro_test(sampling: np.ndarray, alpha: float = 0.05):\n",
    "    return st.shapiro(sampling).pvalue > alpha\n",
    "\n",
    "tests = {\n",
    "    'ks_test': ks_test,\n",
    "    'jarque_bera_test': jarque_bera_test,\n",
    "    'shapiro': shapiro_test\n",
    "}\n",
    "\n",
    "for sampling_label, sampling in samplings.items():\n",
    "    print(\"Sampling from {} distribution\".format(sampling_label))\n",
    "    for test_label, test in tests.items():\n",
    "        test_result = test(sampling)\n",
    "        print(\"{} : {}\".format(test_label, test_result))\n",
    "    print(\"\\n\")\n",
    "\n",
    "# for _ in range(experiment_num):\n",
    "#     alternative_accepted = 0\n",
    "#     sampling = np.random.normal(mean, std, n)\n",
    "#     print(st.shapiro(sampling))\n",
    "#     if st.shapiro(sampling).pvalue <= 0.05:\n",
    "#         alternative_accepted += 1\n",
    "# power = alternative_accepted / experiment_num\n",
    "# print(power)\n",
    "\n",
    "# sampling_size = 1000\n",
    "# mean = 0\n",
    "# std = 1\n",
    "\n",
    "# for _ in range(experiment_num):\n",
    "#     alternative_accepted = 0\n",
    "#     sampling = np.random.normal(mean, std, n)\n",
    "#     print(st.shapiro(sampling))\n",
    "#     if st.shapiro(sampling).pvalue <= 0.05:\n",
    "#         alternative_accepted += 1\n",
    "# power = alternative_accepted / experiment_num\n",
    "# print(power)\n",
    "\n",
    "# shapiro(normal_sampling(0, 1, 10))\n",
    "# plt.hist(normal_sampling(0, 1, 1000), 50, alpha=0.5)\n",
    "# plt.hist(laplace_sampling(0, 1, 1000), 50, alpha=0.5)\n",
    "# plt.hist(student_sampling(3, 1000), 50, alpha=0.5)\n",
    "# plt.hist(truncated_normal_sampling(0, 1, 1000), 50, alpha=0.5)"
   ]
  },
  {
   "cell_type": "code",
   "execution_count": null,
   "metadata": {},
   "outputs": [],
   "source": []
  }
 ],
 "metadata": {
  "kernelspec": {
   "display_name": "Python 3",
   "language": "python",
   "name": "python3"
  },
  "language_info": {
   "codemirror_mode": {
    "name": "ipython",
    "version": 3
   },
   "file_extension": ".py",
   "mimetype": "text/x-python",
   "name": "python",
   "nbconvert_exporter": "python",
   "pygments_lexer": "ipython3",
   "version": "3.10.9"
  },
  "orig_nbformat": 4,
  "vscode": {
   "interpreter": {
    "hash": "aee8b7b246df8f9039afb4144a1f6fd8d2ca17a180786b69acc140d282b71a49"
   }
  }
 },
 "nbformat": 4,
 "nbformat_minor": 2
}
