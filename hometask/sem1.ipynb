{
  "cells": [
    {
      "cell_type": "markdown",
      "metadata": {
        "id": "SWpzzBKX5lab"
      },
      "source": [
        "# Библиотеки"
      ]
    },
    {
      "cell_type": "code",
      "execution_count": 1,
      "metadata": {
        "id": "DVElVx3w5lag"
      },
      "outputs": [],
      "source": [
        "from zlib import crc32\n",
        "\n",
        "import numpy as np\n",
        "import pandas as pd\n",
        "import scipy.stats as st\n",
        "from collections import Counter"
      ]
    },
    {
      "cell_type": "markdown",
      "metadata": {
        "id": "W10bESh65lah"
      },
      "source": [
        "# Код генерации выборки"
      ]
    },
    {
      "cell_type": "code",
      "execution_count": 2,
      "metadata": {
        "id": "-dRusc3I5lai"
      },
      "outputs": [],
      "source": [
        "import re\n",
        "EMAIL_REGEX = re.compile(r\"[^@]+@phystech.edu\")\n",
        "\n",
        "def generate_dataset(code):\n",
        "    rs = np.random.RandomState(code)\n",
        "    full_data = np.concatenate(\n",
        "        [\n",
        "            rs.randint(low=0, high=251, size=5000), \n",
        "            rs.randint(low=-250, high=0, size=5000)\n",
        "        ]\n",
        "    )\n",
        "    \n",
        "    mode_cnt = st.mode(full_data)[1] \n",
        "    counts = Counter(full_data.tolist())\n",
        "    \n",
        "    to_add = []\n",
        "    for i in range(rs.randint(low = 1, high = 5)):\n",
        "        obj_to_add = int(rs.randint(low=-250, high=251, size=1))\n",
        "        to_add += [obj_to_add for _ in range(0, int(mode_cnt - counts.get(obj_to_add, 0)))]\n",
        "        \n",
        "    full_data = np.concatenate([full_data, to_add])\n",
        "    rs.shuffle(full_data)\n",
        "    return np.array(full_data)"
      ]
    },
    {
      "cell_type": "markdown",
      "metadata": {
        "id": "LXkXPYIz5laj"
      },
      "source": [
        "# Генерация выборки для вашей почты\n",
        "\n",
        "<span style=\"color:red\">\n",
        "    ВАЖНО!\n",
        "    Почта, которую укажете ниже и почта с которой Вы отправляете домашнее задание должна совпадать!\n",
        "    В момент проверки задания алгоритм генерирует выборку на основе почты из анкеты!\n",
        "</span>\n",
        "\n",
        "Внимательно проверьте почту для которой выполняется задание!"
      ]
    },
    {
      "cell_type": "code",
      "execution_count": 3,
      "metadata": {
        "id": "h8bMsPHy5laj"
      },
      "outputs": [
        {
          "name": "stderr",
          "output_type": "stream",
          "text": [
            "/var/folders/zr/4x253vhd4ds7_12n67y215n9z0lm8m/T/ipykernel_58484/3594209315.py:13: FutureWarning: Unlike other reduction functions (e.g. `skew`, `kurtosis`), the default behavior of `mode` typically preserves the axis it acts along. In SciPy 1.11.0, this behavior will change: the default value of `keepdims` will become False, the `axis` over which the statistic is taken will be eliminated, and the value None will no longer be accepted. Set `keepdims` to True or False to avoid this warning.\n",
            "  mode_cnt = st.mode(full_data)[1]\n"
          ]
        },
        {
          "data": {
            "text/plain": [
              "{'mail': 'fayzullin.mr@phystech.edu',\n",
              " 'id': 94208360,\n",
              " 'data': array([-109,  180,  131, ...,  134,  -20, -128])}"
            ]
          },
          "execution_count": 3,
          "metadata": {},
          "output_type": "execute_result"
        }
      ],
      "source": [
        "task = dict()\n",
        "task['mail'] = input(prompt='Enter your mail: ')\n",
        "assert EMAIL_REGEX.match(task['mail']), 'Not a mail in the phystech.edu domain'\n",
        "task['id'] = crc32(task['mail'].encode('utf-8'))\n",
        "task['data'] = generate_dataset(task['id'])\n",
        "\n",
        "task"
      ]
    },
    {
      "cell_type": "markdown",
      "metadata": {
        "id": "WprDKyMv5lak"
      },
      "source": [
        "# Работа с выборкой"
      ]
    },
    {
      "cell_type": "code",
      "execution_count": 4,
      "metadata": {
        "id": "ZHQaq3RJ5lal"
      },
      "outputs": [],
      "source": [
        "data = task['data']"
      ]
    },
    {
      "cell_type": "code",
      "execution_count": 8,
      "metadata": {},
      "outputs": [],
      "source": [
        "import numpy as np\n",
        "import scipy.stats as st"
      ]
    },
    {
      "cell_type": "markdown",
      "metadata": {
        "id": "0fAnRfaYm7-e"
      },
      "source": [
        "## Среднее"
      ]
    },
    {
      "cell_type": "code",
      "execution_count": 44,
      "metadata": {
        "id": "y3U23VKk5lal"
      },
      "outputs": [
        {
          "data": {
            "text/plain": [
              "-0.10888423571642238"
            ]
          },
          "execution_count": 44,
          "metadata": {},
          "output_type": "execute_result"
        }
      ],
      "source": [
        "##################\n",
        "# your code here #\n",
        "##################\n",
        "np.average(data)"
      ]
    },
    {
      "cell_type": "markdown",
      "metadata": {
        "id": "gWov4G9anCsg"
      },
      "source": [
        "## Медиана"
      ]
    },
    {
      "cell_type": "code",
      "execution_count": 12,
      "metadata": {
        "id": "1Bjctcs9nFAQ"
      },
      "outputs": [
        {
          "data": {
            "text/plain": [
              "-1.0"
            ]
          },
          "execution_count": 12,
          "metadata": {},
          "output_type": "execute_result"
        }
      ],
      "source": [
        "##################\n",
        "# your code here #\n",
        "##################\n",
        "np.median(data)"
      ]
    },
    {
      "cell_type": "markdown",
      "metadata": {
        "id": "phScuV9znFfK"
      },
      "source": [
        "## Дисперсия (несмещенная оценка)"
      ]
    },
    {
      "cell_type": "code",
      "execution_count": 13,
      "metadata": {
        "id": "1TuORikNnJTh"
      },
      "outputs": [
        {
          "data": {
            "text/plain": [
              "144.78959987096874"
            ]
          },
          "execution_count": 13,
          "metadata": {},
          "output_type": "execute_result"
        }
      ],
      "source": [
        "##################\n",
        "# your code here #\n",
        "##################\n",
        "np.std(data, ddof=1)"
      ]
    },
    {
      "cell_type": "markdown",
      "metadata": {
        "id": "TLgppdpgnJv8"
      },
      "source": [
        "## Мода (максимальная)"
      ]
    },
    {
      "cell_type": "code",
      "execution_count": 19,
      "metadata": {
        "id": "xCuDpfV8nLoM"
      },
      "outputs": [
        {
          "name": "stderr",
          "output_type": "stream",
          "text": [
            "/var/folders/zr/4x253vhd4ds7_12n67y215n9z0lm8m/T/ipykernel_58484/3365313039.py:4: FutureWarning: Unlike other reduction functions (e.g. `skew`, `kurtosis`), the default behavior of `mode` typically preserves the axis it acts along. In SciPy 1.11.0, this behavior will change: the default value of `keepdims` will become False, the `axis` over which the statistic is taken will be eliminated, and the value None will no longer be accepted. Set `keepdims` to True or False to avoid this warning.\n",
            "  np.max(st.mode(data).mode)\n"
          ]
        },
        {
          "data": {
            "text/plain": [
              "-175"
            ]
          },
          "execution_count": 19,
          "metadata": {},
          "output_type": "execute_result"
        }
      ],
      "source": [
        "##################\n",
        "# your code here #\n",
        "##################\n",
        "np.max(st.mode(data).mode)"
      ]
    },
    {
      "cell_type": "markdown",
      "metadata": {
        "id": "bbXfzbY4nMAh"
      },
      "source": [
        "## Число мод"
      ]
    },
    {
      "cell_type": "code",
      "execution_count": 20,
      "metadata": {
        "id": "KQ8cSyEBnNtC"
      },
      "outputs": [
        {
          "name": "stderr",
          "output_type": "stream",
          "text": [
            "/var/folders/zr/4x253vhd4ds7_12n67y215n9z0lm8m/T/ipykernel_58484/1044728056.py:4: FutureWarning: Unlike other reduction functions (e.g. `skew`, `kurtosis`), the default behavior of `mode` typically preserves the axis it acts along. In SciPy 1.11.0, this behavior will change: the default value of `keepdims` will become False, the `axis` over which the statistic is taken will be eliminated, and the value None will no longer be accepted. Set `keepdims` to True or False to avoid this warning.\n",
            "  np.size(st.mode(data).mode)\n"
          ]
        },
        {
          "data": {
            "text/plain": [
              "1"
            ]
          },
          "execution_count": 20,
          "metadata": {},
          "output_type": "execute_result"
        }
      ],
      "source": [
        "##################\n",
        "# your code here #\n",
        "##################\n",
        "np.size(st.mode(data).mode)"
      ]
    },
    {
      "cell_type": "markdown",
      "metadata": {
        "id": "OCSUIo2YnOLG"
      },
      "source": [
        "## Порядковая статистика с номером 42"
      ]
    },
    {
      "cell_type": "code",
      "execution_count": 45,
      "metadata": {
        "id": "PVj68V9inQKc"
      },
      "outputs": [
        {
          "name": "stdout",
          "output_type": "stream",
          "text": [
            "-248\n"
          ]
        }
      ],
      "source": [
        "##################\n",
        "# your code here #\n",
        "##################\n",
        "ind = np.where(st.rankdata(data, 'ordinal') == 42)[0][0]\n",
        "print(data[ind])"
      ]
    },
    {
      "cell_type": "markdown",
      "metadata": {
        "id": "JJWuGUtEnQa4"
      },
      "source": [
        "## Медиана для неотрицательных"
      ]
    },
    {
      "cell_type": "code",
      "execution_count": 49,
      "metadata": {
        "id": "Hv3kQsgFnSHt"
      },
      "outputs": [
        {
          "data": {
            "text/plain": [
              "126.0"
            ]
          },
          "execution_count": 49,
          "metadata": {},
          "output_type": "execute_result"
        }
      ],
      "source": [
        "##################\n",
        "# your code here #\n",
        "##################\n",
        "np.median(data[data > 0])"
      ]
    }
  ],
  "metadata": {
    "colab": {
      "name": "sem1.ipynb",
      "provenance": []
    },
    "kernelspec": {
      "display_name": "Python 3",
      "language": "python",
      "name": "python3"
    },
    "language_info": {
      "codemirror_mode": {
        "name": "ipython",
        "version": 3
      },
      "file_extension": ".py",
      "mimetype": "text/x-python",
      "name": "python",
      "nbconvert_exporter": "python",
      "pygments_lexer": "ipython3",
      "version": "3.10.9"
    },
    "vscode": {
      "interpreter": {
        "hash": "aee8b7b246df8f9039afb4144a1f6fd8d2ca17a180786b69acc140d282b71a49"
      }
    }
  },
  "nbformat": 4,
  "nbformat_minor": 0
}
