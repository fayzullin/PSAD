{
  "cells": [
    {
      "cell_type": "markdown",
      "metadata": {
        "id": "SWpzzBKX5lab"
      },
      "source": [
        "# Библиотеки"
      ]
    },
    {
      "cell_type": "code",
      "execution_count": 1,
      "metadata": {
        "id": "DVElVx3w5lag"
      },
      "outputs": [],
      "source": [
        "from zlib import crc32\n",
        "\n",
        "import numpy as np\n",
        "import pandas as pd\n",
        "import scipy.stats as st\n",
        "from scipy.stats import jarque_bera\n",
        "from scipy.stats import shapiro"
      ]
    },
    {
      "cell_type": "markdown",
      "metadata": {
        "id": "W10bESh65lah"
      },
      "source": [
        "# Код генерации выборки"
      ]
    },
    {
      "cell_type": "code",
      "execution_count": 2,
      "metadata": {
        "id": "-dRusc3I5lai"
      },
      "outputs": [],
      "source": [
        "import re\n",
        "EMAIL_REGEX = re.compile(r\"[^@]+@phystech.edu\")\n",
        "\n",
        "def generate_dataset(code):\n",
        "    rs = np.random.RandomState(code)\n",
        "    data = rs.randn(100)\n",
        "    noise_case = rs.randint(low = 0, high = 3)\n",
        "    max_attemp_num = 10000\n",
        "    if noise_case == 0:\n",
        "        bad = True\n",
        "        attemps = 0\n",
        "        while bad and attemps < max_attemp_num:\n",
        "            data2 = data + rs.laplace(size = (100)) * 0.25\n",
        "            p1 = jarque_bera(data2)[1]\n",
        "            p2 = shapiro(data2)[1]\n",
        "            \n",
        "            if p1 < 0.05 and p2 > 0.05:\n",
        "                bad = False\n",
        "        data = data2\n",
        "        if bad:\n",
        "            print ('could not')\n",
        "    elif noise_case == 1:\n",
        "        data = data + rs.gamma(1, size=(100))*0.5\n",
        "    elif noise_case == 2:\n",
        "        data = data +  rs.uniform()*1.5\n",
        "        \n",
        "    return data"
      ]
    },
    {
      "cell_type": "markdown",
      "metadata": {
        "id": "LXkXPYIz5laj"
      },
      "source": [
        "# Генерация выборки для вашей почты\n",
        "\n",
        "<span style=\"color:red\">\n",
        "    ВАЖНО!\n",
        "    Почта, которую укажете ниже и почта с которой Вы отправляете домашнее задание должна совпадать!\n",
        "    В момент проверки задания алгоритм генерирует выборку на основе почты из анкеты!\n",
        "</span>\n",
        "\n",
        "Внимательно проверьте почту для которой выполняется задание!"
      ]
    },
    {
      "cell_type": "code",
      "execution_count": 3,
      "metadata": {
        "id": "h8bMsPHy5laj"
      },
      "outputs": [
        {
          "data": {
            "text/plain": [
              "{'mail': 'fayzullin.mr@phystech.edu',\n",
              " 'id': 94208360,\n",
              " 'data': array([ 0.9357531 , -1.29718545,  0.84007213,  2.06160941,  1.00423222,\n",
              "         2.11315261,  1.7404708 , -0.30321868,  0.30205666,  0.69554071,\n",
              "        -1.04199344,  0.97031043,  0.5849982 ,  0.63949725,  0.4199071 ,\n",
              "         1.49327378,  0.02044668,  0.3064201 , -0.80677444,  1.43970762,\n",
              "         1.51288039, -0.781643  ,  0.54455245, -1.21398368,  2.59381456,\n",
              "        -0.19029202,  1.88477863,  0.52245918, -0.41375763,  0.0154614 ,\n",
              "        -0.17664692, -1.45891435,  2.00271377, -0.009474  ,  0.86398985,\n",
              "         0.43308344,  1.95752034, -0.05928584,  0.90199582, -0.45377161,\n",
              "         0.34073956,  1.51023177, -0.31570508,  0.39853892,  1.21700549,\n",
              "         0.17237327, -1.20381788, -1.6546931 , -0.22753591,  1.5836425 ,\n",
              "         0.75207121, -0.24083569,  3.70886002,  0.45282628,  1.23930397,\n",
              "        -1.70406301, -0.42586006,  1.94802413, -0.02760126,  2.40385195,\n",
              "         3.17586424,  0.66220417,  1.4628444 ,  1.16070427, -2.03150258,\n",
              "        -0.91601129,  0.7508912 ,  2.58794187,  0.05967143,  2.04307066,\n",
              "         0.20843144, -1.39651055, -0.07822986,  2.39159819,  1.74630756,\n",
              "         0.02905647,  1.53883868,  0.84290439,  0.41547925,  0.00651515,\n",
              "         2.91130301,  1.7087366 ,  1.66905977, -0.53026481,  1.22673429,\n",
              "         0.17114916, -0.41540402,  0.47745028, -1.85219285, -0.82333291,\n",
              "        -0.49212838,  0.29539223, -0.85184186, -0.30807735, -0.83236281,\n",
              "         0.46314801,  1.89774023,  0.17791272,  2.67711178,  2.84332739])}"
            ]
          },
          "execution_count": 3,
          "metadata": {},
          "output_type": "execute_result"
        }
      ],
      "source": [
        "task = dict()\n",
        "task['mail'] = input(prompt='Enter your mail: ')\n",
        "assert EMAIL_REGEX.match(task['mail']), 'Not a mail in the phystech.edu domain'\n",
        "task['id'] = crc32(task['mail'].encode('utf-8'))\n",
        "task['data'] = generate_dataset(task['id'])\n",
        "\n",
        "task"
      ]
    },
    {
      "cell_type": "markdown",
      "metadata": {
        "id": "WprDKyMv5lak"
      },
      "source": [
        "# Работа с выборкой"
      ]
    },
    {
      "cell_type": "code",
      "execution_count": 4,
      "metadata": {
        "id": "ZHQaq3RJ5lal"
      },
      "outputs": [],
      "source": [
        "data = task['data']"
      ]
    },
    {
      "attachments": {},
      "cell_type": "markdown",
      "metadata": {},
      "source": [
        "## Вспомогательные функции"
      ]
    },
    {
      "cell_type": "code",
      "execution_count": 16,
      "metadata": {},
      "outputs": [],
      "source": [
        "def log_criteria_result(pvalue: float, alpha: float):\n",
        "    print(\"pvalue={}\".format(pvalue))\n",
        "    print(\"alpha={}\".format(alpha))\n",
        "    if pvalue <= alpha:\n",
        "        print(\"Hypothesis should be rejected\")\n",
        "    else:\n",
        "        print(\"Data doesn't contradict hypotesis\")"
      ]
    },
    {
      "cell_type": "markdown",
      "metadata": {
        "id": "uVTApKH3n9qR"
      },
      "source": [
        "## Выборочное среднее по выборке"
      ]
    },
    {
      "cell_type": "code",
      "execution_count": 5,
      "metadata": {
        "id": "y3U23VKk5lal"
      },
      "outputs": [
        {
          "data": {
            "text/plain": [
              "0.5559464423690742"
            ]
          },
          "execution_count": 5,
          "metadata": {},
          "output_type": "execute_result"
        }
      ],
      "source": [
        "##################\n",
        "# your code here #\n",
        "##################\n",
        "np.average(data)"
      ]
    },
    {
      "cell_type": "markdown",
      "metadata": {
        "id": "0f0tGtoRoDwr"
      },
      "source": [
        "## Оценка стандартного отклонения (несмещенная)"
      ]
    },
    {
      "cell_type": "code",
      "execution_count": 10,
      "metadata": {
        "id": "GJHHvYy8oGKR"
      },
      "outputs": [
        {
          "data": {
            "text/plain": [
              "1.2174975663980292"
            ]
          },
          "execution_count": 10,
          "metadata": {},
          "output_type": "execute_result"
        }
      ],
      "source": [
        "##################\n",
        "# your code here #\n",
        "##################\n",
        "np.std(data, ddof=1)"
      ]
    },
    {
      "cell_type": "markdown",
      "metadata": {
        "id": "B-iCVoSOoHIu"
      },
      "source": [
        "## Можно ли отклонить гипотезу о нормальности выборки, используя критерий Харке-Бера (p<=0.05)?"
      ]
    },
    {
      "cell_type": "code",
      "execution_count": 17,
      "metadata": {
        "id": "fZnIqQRloLQ6"
      },
      "outputs": [
        {
          "name": "stdout",
          "output_type": "stream",
          "text": [
            "pvalue=0.5474942976136832\n",
            "alpha=0.05\n",
            "Data doesn't contradict hypotesis\n"
          ]
        }
      ],
      "source": [
        "##################\n",
        "# your code here #\n",
        "##################\n",
        "alpha = 0.05\n",
        "pvalue = st.jarque_bera(data).pvalue\n",
        "log_criteria_result(pvalue, alpha)"
      ]
    },
    {
      "cell_type": "markdown",
      "metadata": {
        "id": "AdwUirsioMCO"
      },
      "source": [
        "## Можно ли отклонить гипотезу о нормальности выборки, используя критерий Шапиро-Уилка (p<=0.05)?"
      ]
    },
    {
      "cell_type": "code",
      "execution_count": 18,
      "metadata": {
        "id": "OwrmJ1DYoODk"
      },
      "outputs": [
        {
          "name": "stdout",
          "output_type": "stream",
          "text": [
            "pvalue=0.7406927943229675\n",
            "alpha=0.05\n",
            "Data doesn't contradict hypotesis\n"
          ]
        }
      ],
      "source": [
        "##################\n",
        "# your code here #\n",
        "##################\n",
        "alpha = 0.05\n",
        "pvalue = st.shapiro(data).pvalue\n",
        "log_criteria_result(pvalue, alpha)"
      ]
    },
    {
      "cell_type": "markdown",
      "metadata": {
        "id": "VdqCVxSdoPIj"
      },
      "source": [
        "## Сумма единиц в бинаризованной выборке"
      ]
    },
    {
      "cell_type": "code",
      "execution_count": 51,
      "metadata": {
        "id": "w0H4by7QoQ6O"
      },
      "outputs": [
        {
          "name": "stdout",
          "output_type": "stream",
          "text": [
            "100\n"
          ]
        }
      ],
      "source": [
        "##################\n",
        "# your code here #\n",
        "##################\n",
        "binary_data = np.array(data != 0, dtype=int)\n",
        "success_number = np.sum(binary_data)\n",
        "fail_number = np.size(binary_data) - success_number\n",
        "print(success_number)"
      ]
    },
    {
      "cell_type": "markdown",
      "metadata": {
        "id": "0fqg5hORoRko"
      },
      "source": [
        "## Значение p-value для биномиального теста с двусторонней альтернативой (p0 = 0.5)"
      ]
    },
    {
      "cell_type": "code",
      "execution_count": 53,
      "metadata": {
        "id": "yHMZJMjHoTWc"
      },
      "outputs": [
        {
          "data": {
            "text/plain": [
              "1.5777218104420236e-30"
            ]
          },
          "execution_count": 53,
          "metadata": {},
          "output_type": "execute_result"
        }
      ],
      "source": [
        "##################\n",
        "# your code here #\n",
        "##################\n",
        "st.binom_test([success_number, fail_number], p=0.5, alternative='two-sided')"
      ]
    },
    {
      "cell_type": "code",
      "execution_count": null,
      "metadata": {},
      "outputs": [],
      "source": []
    }
  ],
  "metadata": {
    "colab": {
      "name": "sem2.ipynb",
      "provenance": []
    },
    "kernelspec": {
      "display_name": "Python 3",
      "language": "python",
      "name": "python3"
    },
    "language_info": {
      "codemirror_mode": {
        "name": "ipython",
        "version": 3
      },
      "file_extension": ".py",
      "mimetype": "text/x-python",
      "name": "python",
      "nbconvert_exporter": "python",
      "pygments_lexer": "ipython3",
      "version": "3.10.9"
    },
    "vscode": {
      "interpreter": {
        "hash": "aee8b7b246df8f9039afb4144a1f6fd8d2ca17a180786b69acc140d282b71a49"
      }
    }
  },
  "nbformat": 4,
  "nbformat_minor": 0
}
